{
 "cells": [
  {
   "cell_type": "markdown",
   "metadata": {},
   "source": [
    "# Object-Oriented Design for Implementation\n",
    "\n",
    "TO streamline the presentation, we introduce the object-oriented design for implementation. After learning this part, we might have a better understanding of the general framework of some projects.\n",
    "\n",
    "Basically, 3 classes are included:\n",
    "1. ***Module***: contains models, losses and optimization methods.\n",
    "2. ***DataModule***: data loader for trianing and validation.\n",
    "3. ***Trainer class***: conbine the two classes mentioned above. Most of the time not applied."
   ]
  },
  {
   "cell_type": "markdown",
   "metadata": {},
   "source": [
    "## Prerequisite\n",
    "Before delving into the details under the framework of linear regression, it necessitates some understanding of *object* in Python. Fundamental notes taken from the course [CS61A](https://www.youtube.com/watch?v=A_EFoT4cBSk&list=PL6BsET-8jgYXVGmOZTwye0zv4g2nrA8xs&index=2) are as followed."
   ]
  },
  {
   "cell_type": "markdown",
   "metadata": {},
   "source": [
    "### Class\n",
    "The bedrock of objects. Originated from the idea that all objects belonging to this class share the attributes or properties, also share the methods (which can be perceived as functions defautly set in the class, and they can be applied to the objects in this class).\n",
    "\n",
    "***One single class*** can generate ***multiple instances.*** Instance refers to the object generated from the class, but with a name to deviate from the class. A class can be built in with a constructor called ***\\_\\_init\\_\\_***, which would be automatically implement when a class is called, namely an instance is generated. An example shows the typical constructure of the class, derived from the one used in the lecture."
   ]
  },
  {
   "cell_type": "code",
   "execution_count": 2,
   "metadata": {},
   "outputs": [],
   "source": [
    "class Account:\n",
    "    def __init__(self, account_holder):\n",
    "        # takes the object name and all the arguments passed in as arguments to initialized an instance\n",
    "        self.balance = 0\n",
    "        self.holder = account_holder"
   ]
  }
 ],
 "metadata": {
  "kernelspec": {
   "display_name": "Python 3",
   "language": "python",
   "name": "python3"
  },
  "language_info": {
   "codemirror_mode": {
    "name": "ipython",
    "version": 3
   },
   "file_extension": ".py",
   "mimetype": "text/x-python",
   "name": "python",
   "nbconvert_exporter": "python",
   "pygments_lexer": "ipython3",
   "version": "3.10.0"
  }
 },
 "nbformat": 4,
 "nbformat_minor": 2
}
