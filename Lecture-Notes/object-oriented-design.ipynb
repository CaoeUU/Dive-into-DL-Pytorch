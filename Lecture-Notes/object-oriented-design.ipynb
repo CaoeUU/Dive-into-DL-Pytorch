{
 "cells": [
  {
   "cell_type": "markdown",
   "metadata": {},
   "source": [
    "# Object-Oriented Design for Implementation\n",
    "\n",
    "To streamline the presentation, we introduce the object-oriented design for implementation. After learning this part, we might have a better understanding of the general framework of some projects.\n",
    "\n",
    "Basically, 3 types are included:\n",
    "1. ***Module***: contains models, losses and optimization methods.\n",
    "2. ***DataModule***: data loader for trianing and validation.\n",
    "3. ***Trainer class***: conbine the two classes mentioned above. Most of the time not applied."
   ]
  },
  {
   "cell_type": "markdown",
   "metadata": {},
   "source": [
    "## Prerequisite\n",
    "Before delving into the details under the framework of linear regression, it necessitates some understanding of *object* in Python. Fundamental notes taken from the course [CS61A](https://www.youtube.com/watch?v=A_EFoT4cBSk&list=PL6BsET-8jgYXVGmOZTwye0zv4g2nrA8xs&index=2) are as followed."
   ]
  },
  {
   "cell_type": "markdown",
   "metadata": {},
   "source": [
    "### Class\n",
    "The bedrock of objects. Originated from the idea that all objects belonging to this class share the attributes or properties, also share the methods (which can be perceived as functions defautly set in the class, and they can be applied to the objects in this class).\n",
    "\n",
    "Sometimes class can have attributes that ***don't belong to*** the instances but ***shared*** by all instances.\n",
    "\n",
    "***One single class*** can generate ***multiple instances.*** Instance refers to the object generated from the class, but with a name to deviate from the class. A class can be built in with a constructor called ***\\_\\_init\\_\\_***, which would be automatically implement when a class is called, namely an instance is generated. An example shows the typical constructure of the class, derived from the lecture."
   ]
  },
  {
   "cell_type": "code",
   "execution_count": 1,
   "metadata": {},
   "outputs": [],
   "source": [
    "class Account:\n",
    "    interest = 0.02 # attribute of class but not of any instance\n",
    "    def __init__(self, account_holder):\n",
    "        # takes the object name and all the arguments passed in as arguments to initialized an instance\n",
    "        self.balance = 0\n",
    "        self.holder = account_holder"
   ]
  },
  {
   "cell_type": "markdown",
   "metadata": {},
   "source": [
    "### Method\n",
    "Methods (functions) written in the class are not bounded to a frame, instead, bounding as an attribute in the class. They usually take \"self\" as an argument to link themselves to the instance, but this argument doesn't appear in the parenthesis but shows up using dot expressions.\n",
    "\n",
    "The essence of method is a function bounded to an object."
   ]
  },
  {
   "cell_type": "markdown",
   "metadata": {},
   "source": [
    "### Decorator\n",
    "Decorators are functions that build a frame for other functions. To some extent, it's a sort of higher-order function (the function that takes other functions as argument). We can use a decorator before the definition of one function, or just put that function into the argument of the decorator."
   ]
  },
  {
   "cell_type": "code",
   "execution_count": 2,
   "metadata": {},
   "outputs": [],
   "source": [
    "def trace1(func):\n",
    "    \"\"\"\n",
    "    Trace the implement of func by printing the input\n",
    "    func - a function with 1 argument\n",
    "    \"\"\"\n",
    "    def traced(x):\n",
    "        print(\"Calling\", func, \"on\", x)\n",
    "        return func(x)\n",
    "    return traced"
   ]
  },
  {
   "cell_type": "markdown",
   "metadata": {},
   "source": [
    "## Object-Oriented Design"
   ]
  },
  {
   "cell_type": "code",
   "execution_count": null,
   "metadata": {},
   "outputs": [],
   "source": [
    "# load required libraries\n",
    "import time\n",
    "import numpy as np\n",
    "import torch\n",
    "from torch import nn\n",
    "from d2l import torch as d2l # some packed functions used in lecture"
   ]
  }
 ],
 "metadata": {
  "kernelspec": {
   "display_name": "Python 3",
   "language": "python",
   "name": "python3"
  },
  "language_info": {
   "codemirror_mode": {
    "name": "ipython",
    "version": 3
   },
   "file_extension": ".py",
   "mimetype": "text/x-python",
   "name": "python",
   "nbconvert_exporter": "python",
   "pygments_lexer": "ipython3",
   "version": "3.10.0"
  }
 },
 "nbformat": 4,
 "nbformat_minor": 2
}
